{
  "cells": [
    {
      "cell_type": "code",
      "execution_count": 1,
      "metadata": {},
      "outputs": [],
      "source": [
        "from openai import AzureOpenAI\n",
        "from dotenv import load_dotenv\n",
        "import os\n",
        "import json\n",
        "import time\n",
        "from IPython.display import clear_output"
      ]
    },
    {
      "cell_type": "markdown",
      "metadata": {
        "nteract": {
          "transient": {
            "deleting": false
          }
        }
      },
      "source": [
        "## Create the assistant"
      ]
    },
    {
      "cell_type": "code",
      "execution_count": 2,
      "metadata": {
        "jupyter": {
          "outputs_hidden": false,
          "source_hidden": false
        },
        "nteract": {
          "transient": {
            "deleting": false
          }
        }
      },
      "outputs": [
        {
          "data": {
            "text/plain": [
              "<openai.lib.azure.AzureOpenAI at 0x7fd029067d00>"
            ]
          },
          "execution_count": 2,
          "metadata": {},
          "output_type": "execute_result"
        }
      ],
      "source": [
        "load_dotenv() # config = dotenv_values()\n",
        "\n",
        "client = AzureOpenAI(\n",
        "    api_key=os.getenv(\"AZURE_OPENAI_API_KEY\"),  \n",
        "    api_version=\"2024-05-01-preview\",\n",
        "    azure_endpoint = os.getenv(\"AZURE_OPENAI_ENDPOINT\")\n",
        "    )\n",
        "client"
      ]
    },
    {
      "cell_type": "code",
      "execution_count": 5,
      "metadata": {
        "jupyter": {
          "outputs_hidden": false,
          "source_hidden": false
        },
        "nteract": {
          "transient": {
            "deleting": false
          }
        }
      },
      "outputs": [
        {
          "data": {
            "text/plain": [
              "Assistant(id='asst_ljAyFQXl1LLgYIn0LhvAqWC7', created_at=1725632638, description=None, instructions='You are an expert financial analyst. Use your knowledge base to answer questions about audited financial statements.', metadata={}, model='gpt4', name='Financial Analyst Assistant', object='assistant', tools=[FileSearchTool(type='file_search', file_search=None)], response_format='auto', temperature=1.0, tool_resources=ToolResources(code_interpreter=None, file_search=ToolResourcesFileSearch(vector_store_ids=[])), top_p=1.0)"
            ]
          },
          "execution_count": 5,
          "metadata": {},
          "output_type": "execute_result"
        }
      ],
      "source": [
        "assistant = client.beta.assistants.create(\n",
        "  name=\"Financial Analyst Assistant\",\n",
        "  instructions=\"You are an expert financial analyst. Use your knowledge base to answer questions about audited financial statements.\",\n",
        "  model=os.getenv(\"AZURE_OPENAI_MODEL\"),\n",
        "  tools=[{\"type\": \"file_search\"}],\n",
        ")\n",
        "assistant"
      ]
    },
    {
      "cell_type": "code",
      "execution_count": 8,
      "metadata": {
        "jupyter": {
          "outputs_hidden": false,
          "source_hidden": false
        },
        "nteract": {
          "transient": {
            "deleting": false
          }
        }
      },
      "outputs": [
        {
          "name": "stdout",
          "output_type": "stream",
          "text": [
            "completed\n",
            "FileCounts(cancelled=0, completed=2, failed=0, in_progress=0, total=2)\n"
          ]
        }
      ],
      "source": [
        "# Create a vector store called \"Financial Statements\"\n",
        "vector_store = client.beta.vector_stores.create(name=\"Financial Statements\")\n",
        " \n",
        "# Ready the files for upload to OpenAI\n",
        "file_paths = [\"/home/azureuser/cloudfiles/code/Users/paolt/okr_spike/bert_paper.pdf\", \"/home/azureuser/cloudfiles/code/Users/paolt/okr_spike/gpt_2_paper.pdf\"]\n",
        "file_streams = [open(path, \"rb\") for path in file_paths]\n",
        " \n",
        "# Use the upload and poll SDK helper to upload the files, add them to the vector store,\n",
        "# and poll the status of the file batch for completion.\n",
        "file_batch = client.beta.vector_stores.file_batches.upload_and_poll(\n",
        "  vector_store_id=vector_store.id, files=file_streams\n",
        ")\n",
        " \n",
        "# You can print the status and the file counts of the batch to see the result of this operation.\n",
        "print(file_batch.status)\n",
        "print(file_batch.file_counts)"
      ]
    },
    {
      "cell_type": "code",
      "execution_count": 10,
      "metadata": {},
      "outputs": [
        {
          "data": {
            "text/plain": [
              "Assistant(id='asst_ljAyFQXl1LLgYIn0LhvAqWC7', created_at=1725632638, description=None, instructions='You are an expert financial analyst. Use your knowledge base to answer questions about audited financial statements.', metadata={}, model='gpt4', name='Financial Analyst Assistant', object='assistant', tools=[FileSearchTool(type='file_search', file_search=None)], response_format='auto', temperature=1.0, tool_resources=ToolResources(code_interpreter=None, file_search=ToolResourcesFileSearch(vector_store_ids=['vs_TQVndlpf3E3hbBjMiGewzhuw'])), top_p=1.0)"
            ]
          },
          "execution_count": 10,
          "metadata": {},
          "output_type": "execute_result"
        }
      ],
      "source": [
        "assistant = client.beta.assistants.update(\n",
        "  assistant_id=assistant.id,\n",
        "  tool_resources={\"file_search\": {\"vector_store_ids\": [vector_store.id]}},\n",
        ")\n",
        "assistant"
      ]
    },
    {
      "cell_type": "markdown",
      "metadata": {
        "nteract": {
          "transient": {
            "deleting": false
          }
        }
      },
      "source": [
        "## Chat with it"
      ]
    },
    {
      "cell_type": "code",
      "execution_count": 16,
      "metadata": {},
      "outputs": [
        {
          "name": "stdout",
          "output_type": "stream",
          "text": [
            "Thread(id='thread_ABu9VjDWROiJnpHL6ljFGwx1', created_at=1725633275, metadata={}, object='thread', tool_resources=ToolResources(code_interpreter=None, file_search=None))\n"
          ]
        }
      ],
      "source": [
        "# Create a thread\n",
        "thread = client.beta.threads.create()\n",
        "print(thread)"
      ]
    },
    {
      "cell_type": "code",
      "execution_count": 17,
      "metadata": {
        "jupyter": {
          "outputs_hidden": false,
          "source_hidden": false
        },
        "nteract": {
          "transient": {
            "deleting": false
          }
        }
      },
      "outputs": [
        {
          "name": "stdout",
          "output_type": "stream",
          "text": [
            "Message(id='msg_WFyeyxSEFN3guVtcSXwb5Gmm', assistant_id=None, attachments=[], completed_at=None, content=[TextContentBlock(text=Text(annotations=[], value='what is gpt2?'), type='text')], created_at=1725633277, incomplete_at=None, incomplete_details=None, metadata={}, object='thread.message', role='user', run_id=None, status=None, thread_id='thread_ABu9VjDWROiJnpHL6ljFGwx1')\n"
          ]
        }
      ],
      "source": [
        "message = client.beta.threads.messages.create(\n",
        "    thread_id=thread.id,\n",
        "    role=\"user\",\n",
        "    content=\"what is gpt2?\"\n",
        ")\n",
        "print(message)"
      ]
    },
    {
      "cell_type": "code",
      "execution_count": 18,
      "metadata": {},
      "outputs": [
        {
          "name": "stdout",
          "output_type": "stream",
          "text": [
            "{\n",
            "  \"data\": [\n",
            "    {\n",
            "      \"id\": \"msg_WFyeyxSEFN3guVtcSXwb5Gmm\",\n",
            "      \"assistant_id\": null,\n",
            "      \"attachments\": [],\n",
            "      \"completed_at\": null,\n",
            "      \"content\": [\n",
            "        {\n",
            "          \"text\": {\n",
            "            \"annotations\": [],\n",
            "            \"value\": \"what is gpt2?\"\n",
            "          },\n",
            "          \"type\": \"text\"\n",
            "        }\n",
            "      ],\n",
            "      \"created_at\": 1725633277,\n",
            "      \"incomplete_at\": null,\n",
            "      \"incomplete_details\": null,\n",
            "      \"metadata\": {},\n",
            "      \"object\": \"thread.message\",\n",
            "      \"role\": \"user\",\n",
            "      \"run_id\": null,\n",
            "      \"status\": null,\n",
            "      \"thread_id\": \"thread_ABu9VjDWROiJnpHL6ljFGwx1\"\n",
            "    }\n",
            "  ],\n",
            "  \"object\": \"list\",\n",
            "  \"first_id\": \"msg_WFyeyxSEFN3guVtcSXwb5Gmm\",\n",
            "  \"last_id\": \"msg_WFyeyxSEFN3guVtcSXwb5Gmm\",\n",
            "  \"has_more\": false\n",
            "}\n"
          ]
        }
      ],
      "source": [
        "thread_messages = client.beta.threads.messages.list(thread.id)\n",
        "print(thread_messages.model_dump_json(indent=2))"
      ]
    },
    {
      "cell_type": "code",
      "execution_count": 19,
      "metadata": {},
      "outputs": [],
      "source": [
        "run = client.beta.threads.runs.create(\n",
        "  thread_id=thread.id,\n",
        "  assistant_id=assistant.id,\n",
        ")"
      ]
    },
    {
      "cell_type": "code",
      "execution_count": 40,
      "metadata": {},
      "outputs": [
        {
          "name": "stdout",
          "output_type": "stream",
          "text": [
            "Status: completed\n",
            "Elapsed time: 0 minutes 0 seconds\n"
          ]
        }
      ],
      "source": [
        "status = run.status\n",
        "\n",
        "while status not in [\"completed\", \"cancelled\", \"expired\", \"failed\"]:\n",
        "    time.sleep(5)\n",
        "    run = client.beta.threads.runs.retrieve(thread_id=thread.id,run_id=run.id)\n",
        "    print(f'Status: {status}')"
      ]
    },
    {
      "cell_type": "code",
      "execution_count": 45,
      "metadata": {},
      "outputs": [
        {
          "data": {
            "text/plain": [
              "'GPT-2 stands for \"Generative Pretrained Transformer 2\". It is a large-scale transformer-based language model developed by OpenAI. GPT-2 was trained on a variety of internet texts, and has the ability to generate coherent and contextually relevant sentences by predicting subsequent words within a given text. However, it\\'s worth mentioning that your question does not seem related to audited financial statements. Can I assist with any queries about financial statements specifically?'"
            ]
          },
          "execution_count": 45,
          "metadata": {},
          "output_type": "execute_result"
        }
      ],
      "source": [
        "messages = client.beta.threads.messages.list(thread_id=thread.id)\n",
        "data = json.loads(messages.model_dump_json(indent=2))\n",
        "answer = data['data'][0]['content'][0]['text']['value']\n",
        "print(answer)"
      ]
    }
  ],
  "metadata": {
    "kernel_info": {
      "name": "python310-sdkv2"
    },
    "kernelspec": {
      "display_name": "okr",
      "language": "python",
      "name": "python3"
    },
    "language_info": {
      "codemirror_mode": {
        "name": "ipython",
        "version": 3
      },
      "file_extension": ".py",
      "mimetype": "text/x-python",
      "name": "python",
      "nbconvert_exporter": "python",
      "pygments_lexer": "ipython3",
      "version": "3.8.19"
    },
    "microsoft": {
      "ms_spell_check": {
        "ms_spell_check_language": "en"
      }
    },
    "nteract": {
      "version": "nteract-front-end@1.0.0"
    }
  },
  "nbformat": 4,
  "nbformat_minor": 2
}
